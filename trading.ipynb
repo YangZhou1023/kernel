{
 "cells": [
  {
   "cell_type": "code",
   "execution_count": 1,
   "id": "96bf7eb1",
   "metadata": {},
   "outputs": [],
   "source": [
    "import pandas as pd\n",
    "import numpy as np\n",
    "import warnings\n",
    "warnings.filterwarnings('ignore')\n",
    "from sklearn.preprocessing import MinMaxScaler\n",
    "import matplotlib.pyplot as plt\n",
    "import math\n",
    "import datetime\n",
    "\n",
    "from sklearn.metrics import mean_squared_error\n",
    "from xgboost import XGBRegressor,plot_importance"
   ]
  },
  {
   "cell_type": "code",
   "execution_count": 2,
   "id": "dc5acfe7",
   "metadata": {},
   "outputs": [],
   "source": [
    "df_list=[]\n",
    "\n",
    "for i in range(1,12):\n",
    "    df_list.append(pd.read_csv('C:/Users/HP/Desktop/kernel project/data_set_{}.csv'.format(i)).drop_duplicates())\n",
    "    \n",
    "#It's very strange that d9 has 2 values for each day, I only used the first value\n",
    "df_list[8]=df_list[8].groupby('data_date').first().reset_index()"
   ]
  },
  {
   "cell_type": "code",
   "execution_count": 3,
   "id": "d127cfcd",
   "metadata": {},
   "outputs": [],
   "source": [
    "s1=pd.read_csv('C:/Users/HP/Desktop/kernel project/security_reference_data_w_ret1d_1.csv')\n",
    "s2=pd.read_csv('C:/Users/HP/Desktop/kernel project/security_reference_data_w_ret1d_2.csv')"
   ]
  },
  {
   "cell_type": "code",
   "execution_count": 4,
   "id": "bec2428c",
   "metadata": {},
   "outputs": [],
   "source": [
    "s=pd.concat([s1,s2])\n",
    "s=s[s.in_trading_universe=='Y'].drop_duplicates()\n",
    "s.drop(columns=['in_trading_universe','group_id'], inplace=True)"
   ]
  },
  {
   "cell_type": "code",
   "execution_count": 5,
   "id": "1f63c264",
   "metadata": {},
   "outputs": [],
   "source": [
    "for i in range(11):\n",
    "    s=pd.merge(s, df_list[i], on=['data_date','security_id'], how='left')"
   ]
  },
  {
   "cell_type": "code",
   "execution_count": 6,
   "id": "3b91039c",
   "metadata": {},
   "outputs": [],
   "source": [
    "r1=pd.read_csv('C:/Users/HP/Desktop/kernel project/risk_factors_1.csv')\n",
    "r2=pd.read_csv('C:/Users/HP/Desktop/kernel project/risk_factors_2.csv')\n",
    "r=pd.concat([r1,r2])\n",
    "s=pd.merge(s, r, on=['data_date','security_id'], how='left')"
   ]
  },
  {
   "cell_type": "code",
   "execution_count": 7,
   "id": "13e7debb",
   "metadata": {},
   "outputs": [],
   "source": [
    "s=s.sort_values(['security_id','data_date'])\n",
    "s=s.dropna(subset=['ret1d'])"
   ]
  },
  {
   "cell_type": "code",
   "execution_count": 8,
   "id": "72e9c825",
   "metadata": {},
   "outputs": [],
   "source": [
    "features=['d'+str(_)  for _ in range(1,12)]\n",
    "s[features]=s.groupby('security_id')[features].shift(1)\n",
    "s=s[~s[features].isna().all(axis=1)]"
   ]
  },
  {
   "cell_type": "code",
   "execution_count": 9,
   "id": "b372ccfc",
   "metadata": {},
   "outputs": [],
   "source": [
    "s['vol_pct']=s.groupby('security_id')['volume'].pct_change()\n",
    "s['vol_pct-1']=s.groupby('security_id')['vol_pct'].shift(1)\n",
    "s['vol_pct-2']=s.groupby('security_id')['vol_pct'].shift(2)\n",
    "s['vol_pct-3']=s.groupby('security_id')['vol_pct'].shift(3)\n",
    "s['vol_pct-4']=s.groupby('security_id')['vol_pct'].shift(4)\n",
    "s['vol_pct-5']=s.groupby('security_id')['vol_pct'].shift(5)\n",
    "\n",
    "s['ret1d-1']=s.groupby('security_id')['ret1d'].shift(1)\n",
    "s['ret1d-2']=s.groupby('security_id')['ret1d'].shift(2)\n",
    "s['ret1d-3']=s.groupby('security_id')['ret1d'].shift(3)\n",
    "s['ret1d-4']=s.groupby('security_id')['ret1d'].shift(4)\n",
    "s['ret1d-5']=s.groupby('security_id')['ret1d'].shift(5)\n",
    "\n",
    "s=s.groupby('security_id').apply(lambda x: x.tail(len(x) - 5)).reset_index(drop=True)"
   ]
  },
  {
   "cell_type": "code",
   "execution_count": 10,
   "id": "09d80c8e",
   "metadata": {},
   "outputs": [],
   "source": [
    "Xy=features+['ret1d','vol_pct-1','vol_pct-2','vol_pct-3','vol_pct-4','vol_pct-5',\n",
    "                'ret1d-1','ret1d-2','ret1d-3','ret1d-4','ret1d-5']\n",
    "scaler = MinMaxScaler()\n",
    "s[Xy] = scaler.fit_transform(s[Xy].values)"
   ]
  },
  {
   "cell_type": "code",
   "execution_count": 11,
   "id": "f3da97e6",
   "metadata": {},
   "outputs": [],
   "source": [
    "missing_percentage = s.isnull().mean()\n",
    "s = s.loc[:, missing_percentage <= 0.3]"
   ]
  },
  {
   "cell_type": "code",
   "execution_count": 12,
   "id": "02ad4aa9",
   "metadata": {},
   "outputs": [],
   "source": [
    "s['data_date']=s['data_date'].apply(lambda x: datetime.datetime(year=int(str(x)[:4]),\n",
    "                                                                month=int(str(x)[4:6]),\n",
    "                                                                day=int(str(x)[6:])))"
   ]
  },
  {
   "cell_type": "code",
   "execution_count": 13,
   "id": "e8e4143a",
   "metadata": {},
   "outputs": [],
   "source": [
    "s=s[['data_date', 'security_id','ret1d', 'd8',\n",
    "     'vol_pct-1','vol_pct-2','vol_pct-3','vol_pct-4','vol_pct-5',\n",
    "     'ret1d-1','ret1d-2','ret1d-3','ret1d-4','ret1d-5']]"
   ]
  },
  {
   "cell_type": "code",
   "execution_count": 14,
   "id": "120eb76f",
   "metadata": {},
   "outputs": [],
   "source": [
    "def get_train(df):\n",
    "    n=df.shape[0]\n",
    "    q_80=int(n*0.8)\n",
    "    return df.iloc[:q_80]\n",
    "\n",
    "def get_val(df):\n",
    "    n=df.shape[0]\n",
    "    q_80=int(n*0.8)\n",
    "    q_90=int(n*0.9)\n",
    "    return df.iloc[q_80:q_90]\n",
    "\n",
    "def get_test(df):\n",
    "    n=df.shape[0]\n",
    "    q_90=int(n*0.9)\n",
    "    return df.iloc[q_90:]\n",
    "\n",
    "def get_X_y(df):\n",
    "    values=df.values\n",
    "    X=values[:,3:]\n",
    "    y=values[:,2]\n",
    "    return X,y"
   ]
  },
  {
   "cell_type": "code",
   "execution_count": 15,
   "id": "dd0e222a",
   "metadata": {},
   "outputs": [],
   "source": [
    "train=s.groupby('security_id').apply(get_train).reset_index(drop=True)\n",
    "val=s.groupby('security_id').apply(get_val).reset_index(drop=True)\n",
    "test=s.groupby('security_id').apply(get_test).reset_index(drop=True)"
   ]
  },
  {
   "cell_type": "code",
   "execution_count": 16,
   "id": "9dddf21e",
   "metadata": {},
   "outputs": [],
   "source": [
    "X_train,y_train=get_X_y(train)\n",
    "X_val,y_val=get_X_y(val)\n",
    "X_test,y_test=get_X_y(test)"
   ]
  },
  {
   "cell_type": "code",
   "execution_count": 17,
   "id": "c37798e6",
   "metadata": {},
   "outputs": [],
   "source": [
    "model = XGBRegressor(\n",
    "    objective='reg:squarederror', \n",
    "    n_estimators=100, \n",
    "    learning_rate=0.2, \n",
    "    max_depth=8, \n",
    "    subsample=0.8, \n",
    "    colsample_bytree=0.8, \n",
    "    gamma=0.1, \n",
    "    reg_alpha=0, \n",
    "    reg_lambda=1,\n",
    "    random_state=42\n",
    ")"
   ]
  },
  {
   "cell_type": "code",
   "execution_count": 18,
   "id": "22de4063",
   "metadata": {
    "scrolled": true
   },
   "outputs": [
    {
     "name": "stdout",
     "output_type": "stream",
     "text": [
      "[0]\tvalidation_0-rmse:0.21902\tvalidation_1-rmse:0.21898\n",
      "[1]\tvalidation_0-rmse:0.17526\tvalidation_1-rmse:0.17522\n",
      "[2]\tvalidation_0-rmse:0.14025\tvalidation_1-rmse:0.14021\n",
      "[3]\tvalidation_0-rmse:0.11226\tvalidation_1-rmse:0.11222\n",
      "[4]\tvalidation_0-rmse:0.08989\tvalidation_1-rmse:0.08984\n",
      "[5]\tvalidation_0-rmse:0.07201\tvalidation_1-rmse:0.07196\n",
      "[6]\tvalidation_0-rmse:0.05773\tvalidation_1-rmse:0.05767\n",
      "[7]\tvalidation_0-rmse:0.04633\tvalidation_1-rmse:0.04627\n",
      "[8]\tvalidation_0-rmse:0.03725\tvalidation_1-rmse:0.03718\n",
      "[9]\tvalidation_0-rmse:0.03004\tvalidation_1-rmse:0.02996\n",
      "[10]\tvalidation_0-rmse:0.02432\tvalidation_1-rmse:0.02423\n",
      "[11]\tvalidation_0-rmse:0.01981\tvalidation_1-rmse:0.01971\n",
      "[12]\tvalidation_0-rmse:0.01628\tvalidation_1-rmse:0.01616\n",
      "[13]\tvalidation_0-rmse:0.01354\tvalidation_1-rmse:0.01342\n",
      "[14]\tvalidation_0-rmse:0.01146\tvalidation_1-rmse:0.01131\n",
      "[15]\tvalidation_0-rmse:0.00989\tvalidation_1-rmse:0.00973\n",
      "[16]\tvalidation_0-rmse:0.00875\tvalidation_1-rmse:0.00857\n",
      "[17]\tvalidation_0-rmse:0.00793\tvalidation_1-rmse:0.00774\n",
      "[18]\tvalidation_0-rmse:0.00736\tvalidation_1-rmse:0.00715\n",
      "[19]\tvalidation_0-rmse:0.00697\tvalidation_1-rmse:0.00676\n",
      "[20]\tvalidation_0-rmse:0.00670\tvalidation_1-rmse:0.00649\n",
      "[21]\tvalidation_0-rmse:0.00653\tvalidation_1-rmse:0.00631\n",
      "[22]\tvalidation_0-rmse:0.00641\tvalidation_1-rmse:0.00620\n",
      "[23]\tvalidation_0-rmse:0.00634\tvalidation_1-rmse:0.00612\n",
      "[24]\tvalidation_0-rmse:0.00629\tvalidation_1-rmse:0.00607\n",
      "[25]\tvalidation_0-rmse:0.00626\tvalidation_1-rmse:0.00604\n",
      "[26]\tvalidation_0-rmse:0.00624\tvalidation_1-rmse:0.00602\n",
      "[27]\tvalidation_0-rmse:0.00623\tvalidation_1-rmse:0.00601\n",
      "[28]\tvalidation_0-rmse:0.00622\tvalidation_1-rmse:0.00600\n",
      "[29]\tvalidation_0-rmse:0.00622\tvalidation_1-rmse:0.00600\n",
      "[30]\tvalidation_0-rmse:0.00621\tvalidation_1-rmse:0.00600\n",
      "[31]\tvalidation_0-rmse:0.00621\tvalidation_1-rmse:0.00599\n",
      "[32]\tvalidation_0-rmse:0.00621\tvalidation_1-rmse:0.00599\n",
      "[33]\tvalidation_0-rmse:0.00621\tvalidation_1-rmse:0.00599\n",
      "[34]\tvalidation_0-rmse:0.00621\tvalidation_1-rmse:0.00599\n",
      "[35]\tvalidation_0-rmse:0.00621\tvalidation_1-rmse:0.00599\n",
      "[36]\tvalidation_0-rmse:0.00621\tvalidation_1-rmse:0.00599\n",
      "[37]\tvalidation_0-rmse:0.00621\tvalidation_1-rmse:0.00599\n",
      "[38]\tvalidation_0-rmse:0.00621\tvalidation_1-rmse:0.00599\n",
      "[39]\tvalidation_0-rmse:0.00621\tvalidation_1-rmse:0.00599\n",
      "[40]\tvalidation_0-rmse:0.00621\tvalidation_1-rmse:0.00599\n",
      "[41]\tvalidation_0-rmse:0.00621\tvalidation_1-rmse:0.00599\n",
      "[42]\tvalidation_0-rmse:0.00620\tvalidation_1-rmse:0.00599\n",
      "[43]\tvalidation_0-rmse:0.00620\tvalidation_1-rmse:0.00599\n",
      "[44]\tvalidation_0-rmse:0.00620\tvalidation_1-rmse:0.00599\n",
      "[45]\tvalidation_0-rmse:0.00620\tvalidation_1-rmse:0.00599\n",
      "[46]\tvalidation_0-rmse:0.00620\tvalidation_1-rmse:0.00599\n",
      "[47]\tvalidation_0-rmse:0.00620\tvalidation_1-rmse:0.00599\n",
      "[48]\tvalidation_0-rmse:0.00620\tvalidation_1-rmse:0.00599\n"
     ]
    },
    {
     "data": {
      "text/plain": [
       "XGBRegressor(base_score=0.5, booster='gbtree', callbacks=None,\n",
       "             colsample_bylevel=1, colsample_bynode=1, colsample_bytree=0.8,\n",
       "             early_stopping_rounds=None, enable_categorical=False,\n",
       "             eval_metric=None, feature_types=None, gamma=0.1, gpu_id=-1,\n",
       "             grow_policy='depthwise', importance_type=None,\n",
       "             interaction_constraints='', learning_rate=0.2, max_bin=256,\n",
       "             max_cat_threshold=64, max_cat_to_onehot=4, max_delta_step=0,\n",
       "             max_depth=8, max_leaves=0, min_child_weight=1, missing=nan,\n",
       "             monotone_constraints='()', n_estimators=100, n_jobs=0,\n",
       "             num_parallel_tree=1, predictor='auto', random_state=42, ...)"
      ]
     },
     "execution_count": 18,
     "metadata": {},
     "output_type": "execute_result"
    }
   ],
   "source": [
    "evals = [(X_train, y_train), (X_val, y_val)]\n",
    "model.fit(X_train, y_train, eval_metric=\"rmse\", eval_set=evals, verbose=True,early_stopping_rounds=10)"
   ]
  },
  {
   "cell_type": "code",
   "execution_count": 19,
   "id": "37ff4de3",
   "metadata": {},
   "outputs": [],
   "source": [
    "def plot_rmse(model):\n",
    "    results = model.evals_result_\n",
    "    epochs = len(results['validation_0']['rmse'])\n",
    "    x_axis = range(0, epochs)\n",
    "    fig, ax = plt.subplots()\n",
    "    ax.plot(x_axis, results['validation_0']['rmse'], label='Train')\n",
    "    ax.plot(x_axis, results['validation_1']['rmse'], label='Validation')\n",
    "    ax.legend()\n",
    "    plt.ylabel('rmse')\n",
    "    plt.title('XGDboost rmse')\n",
    "    plt.show()"
   ]
  },
  {
   "cell_type": "code",
   "execution_count": 20,
   "id": "6f4ca151",
   "metadata": {},
   "outputs": [
    {
     "data": {
      "image/png": "[encoded data removed]",
      "text/plain": [
       "<Figure size 432x288 with 1 Axes>"
      ]
     },
     "metadata": {
      "needs_background": "light"
     },
     "output_type": "display_data"
    }
   ],
   "source": [
    "plot_rmse(model)"
   ]
  },
  {
   "cell_type": "code",
   "execution_count": 21,
   "id": "3d0fc89d",
   "metadata": {},
   "outputs": [
    {
     "data": {
      "text/plain": [
       "<AxesSubplot:title={'center':'Feature importance'}, xlabel='F score', ylabel='Features'>"
      ]
     },
     "execution_count": 21,
     "metadata": {},
     "output_type": "execute_result"
    },
    {
     "data": {
      "image/png": "[encoded data removed]",
      "text/plain": [
       "<Figure size 432x288 with 1 Axes>"
      ]
     },
     "metadata": {
      "needs_background": "light"
     },
     "output_type": "display_data"
    }
   ],
   "source": [
    "plot_importance(model,max_num_features=10)"
   ]
  },
  {
   "cell_type": "code",
   "execution_count": 38,
   "id": "8dc59580",
   "metadata": {},
   "outputs": [],
   "source": [
    "test_df=s.groupby('security_id')[['security_id','data_date']].apply(get_test).reset_index(drop=True)"
   ]
  },
  {
   "cell_type": "code",
   "execution_count": 39,
   "id": "b67bc04c",
   "metadata": {},
   "outputs": [],
   "source": [
    "test_df['syn_factor']=y_pred=model.predict(X_test)\n",
    "test_df['y_true']=y_test"
   ]
  },
  {
   "cell_type": "code",
   "execution_count": 40,
   "id": "7c72b4a3",
   "metadata": {},
   "outputs": [
    {
     "data": {
      "text/plain": [
       "0.005753219213174727"
      ]
     },
     "execution_count": 40,
     "metadata": {},
     "output_type": "execute_result"
    }
   ],
   "source": [
    "# rmse for test dataset\n",
    "def calculate_rmse(arr1, arr2):\n",
    "    return np.sqrt(np.mean((arr1 - arr2)**2))\n",
    "\n",
    "calculate_rmse(test_df['syn_factor'],test_df['y_true'])"
   ]
  },
  {
   "cell_type": "code",
   "execution_count": 41,
   "id": "17e0ed41",
   "metadata": {},
   "outputs": [],
   "source": [
    "test_df['counts']=test_df.groupby('data_date')['data_date'].transform('count')\n",
    "test_df=test_df[test_df.counts>=200]"
   ]
  },
  {
   "cell_type": "code",
   "execution_count": 42,
   "id": "03db7820",
   "metadata": {},
   "outputs": [],
   "source": [
    "test_df['factor_ma']=test_df.groupby('security_id')['syn_factor'].rolling(5).mean().reset_index(level=0, drop=True)\n",
    "test_df=test_df.sort_values(by=['data_date','factor_ma']).dropna()"
   ]
  },
  {
   "cell_type": "code",
   "execution_count": 88,
   "id": "7314b145",
   "metadata": {},
   "outputs": [],
   "source": [
    "def cal_ret(x):\n",
    "    n=x.shape[0]\n",
    "    q=int(n*0.1)\n",
    "    signals=np.concatenate([-np.ones(q), np.zeros(n-2*q), np.ones(q)])\n",
    "    signals=signals.reshape(1,-1)\n",
    "    return (signals @ x.values.reshape(-1,1)).item()"
   ]
  },
  {
   "cell_type": "code",
   "execution_count": 89,
   "id": "0cf74aea",
   "metadata": {},
   "outputs": [],
   "source": [
    "daily_ret=test_df.groupby('data_date')['y_true'].apply(cal_ret)"
   ]
  },
  {
   "cell_type": "code",
   "execution_count": 90,
   "id": "e9ffc072",
   "metadata": {},
   "outputs": [
    {
     "name": "stdout",
     "output_type": "stream",
     "text": [
      "Sharpe Ratio: 1.2338297125310784\n",
      "Maximum Drawdown: -0.9777353904029861\n",
      "Win Rate: 0.54\n",
      "Volatility: 0.2392\n"
     ]
    }
   ],
   "source": [
    "risk_free_rate = 0.017\n",
    "\n",
    "sharpe_ratio = (daily_ret.mean() - risk_free_rate) / daily_ret.std()*np.sqrt(252)\n",
    "\n",
    "cum_ratios = (1 + pd.Series(daily_ret)).cumprod()\n",
    "cum_max = cum_ratios.cummax()\n",
    "drawdown = (cum_ratios - cum_max) / cum_max\n",
    "max_drawdown = drawdown.min()\n",
    "\n",
    "winning_trades_count = sum(1 for ret in daily_ret if ret > 0)\n",
    "win_rate = (winning_trades_count / daily_ret.shape[0]) \n",
    "\n",
    "volatility = np.std(daily_ret)\n",
    "\n",
    "print(f\"Sharpe Ratio: {sharpe_ratio}\")\n",
    "print(f\"Maximum Drawdown: {max_drawdown}\")\n",
    "print(f\"Win Rate: {win_rate:.2f}\")\n",
    "print(f\"Volatility: {volatility:.4f}\")"
   ]
  },
  {
   "cell_type": "code",
   "execution_count": 91,
   "id": "fef1128b",
   "metadata": {},
   "outputs": [],
   "source": [
    "cumulative_returns=cum_ratios-1"
   ]
  },
  {
   "cell_type": "code",
   "execution_count": 92,
   "id": "2e774e52",
   "metadata": {},
   "outputs": [
    {
     "data": {
      "text/plain": [
       "<AxesSubplot:title={'center':'cumulative returns'}, xlabel='date', ylabel='%'>"
      ]
     },
     "execution_count": 92,
     "metadata": {},
     "output_type": "execute_result"
    },
    {
     "data": {
      "image/png": "[encoded data removed]",
      "text/plain": [
       "<Figure size 432x288 with 1 Axes>"
      ]
     },
     "metadata": {
      "needs_background": "light"
     },
     "output_type": "display_data"
    }
   ],
   "source": [
    "cum_rets_pct=cumulative_returns*100\n",
    "cum_rets_pct.plot(ylabel='%',xlabel='date',title='cumulative returns')"
   ]
  },
  {
   "cell_type": "code",
   "execution_count": null,
   "id": "fc478dc4",
   "metadata": {},
   "outputs": [],
   "source": []
  }
 ],
 "metadata": {
  "kernelspec": {
   "display_name": "Python 3 (ipykernel)",
   "language": "python",
   "name": "python3"
  },
  "language_info": {
   "codemirror_mode": {
    "name": "ipython",
    "version": 3
   },
   "file_extension": ".py",
   "mimetype": "text/x-python",
   "name": "python",
   "nbconvert_exporter": "python",
   "pygments_lexer": "ipython3",
   "version": "3.9.12"
  }
 },
 "nbformat": 4,
 "nbformat_minor": 5
}
